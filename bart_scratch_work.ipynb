{
 "cells": [
  {
   "cell_type": "code",
   "execution_count": 14,
   "id": "41b867a9",
   "metadata": {},
   "outputs": [],
   "source": [
    "import matplotlib.pyplot as plt\n",
    "import numpy as np\n",
    "import pandas as pd\n",
    "import seaborn as sns\n",
    "from sklearn import metrics\n",
    "from sklearn.cluster import DBSCAN\n",
    "from sklearn.preprocessing import MinMaxScaler\n",
    "import socket\n",
    "import env\n",
    "import wrangle"
   ]
  },
  {
   "cell_type": "code",
   "execution_count": 6,
   "id": "3efec39e",
   "metadata": {},
   "outputs": [],
   "source": [
    "df = wrangle.wrangle_logs()\n",
    "\n",
    "\n",
    "\n"
   ]
  },
  {
   "cell_type": "markdown",
   "id": "fe7f9a2e",
   "metadata": {},
   "source": [
    "1. Which lesson appears to attract the most traffic consistently across cohorts (per program)?\n",
    "2. Is there a cohort that referred to a lesson significantly more than other cohorts seemed to gloss over?"
   ]
  },
  {
   "cell_type": "code",
   "execution_count": 7,
   "id": "9c65fcd0",
   "metadata": {},
   "outputs": [
    {
     "data": {
      "text/html": [
       "<div>\n",
       "<style scoped>\n",
       "    .dataframe tbody tr th:only-of-type {\n",
       "        vertical-align: middle;\n",
       "    }\n",
       "\n",
       "    .dataframe tbody tr th {\n",
       "        vertical-align: top;\n",
       "    }\n",
       "\n",
       "    .dataframe thead th {\n",
       "        text-align: right;\n",
       "    }\n",
       "</style>\n",
       "<table border=\"1\" class=\"dataframe\">\n",
       "  <thead>\n",
       "    <tr style=\"text-align: right;\">\n",
       "      <th></th>\n",
       "      <th>time</th>\n",
       "      <th>path</th>\n",
       "      <th>user_id</th>\n",
       "      <th>cohort_id</th>\n",
       "      <th>ip</th>\n",
       "      <th>name</th>\n",
       "      <th>slack</th>\n",
       "      <th>start_date</th>\n",
       "      <th>end_date</th>\n",
       "      <th>created_at</th>\n",
       "      <th>updated_at</th>\n",
       "      <th>deleted_at</th>\n",
       "      <th>program_id</th>\n",
       "      <th>datetime</th>\n",
       "      <th>ip_name</th>\n",
       "    </tr>\n",
       "    <tr>\n",
       "      <th>date</th>\n",
       "      <th></th>\n",
       "      <th></th>\n",
       "      <th></th>\n",
       "      <th></th>\n",
       "      <th></th>\n",
       "      <th></th>\n",
       "      <th></th>\n",
       "      <th></th>\n",
       "      <th></th>\n",
       "      <th></th>\n",
       "      <th></th>\n",
       "      <th></th>\n",
       "      <th></th>\n",
       "      <th></th>\n",
       "      <th></th>\n",
       "    </tr>\n",
       "  </thead>\n",
       "  <tbody>\n",
       "    <tr>\n",
       "      <th>2018-01-26</th>\n",
       "      <td>09:55:03</td>\n",
       "      <td>/</td>\n",
       "      <td>1</td>\n",
       "      <td>8.0</td>\n",
       "      <td>97.105.19.61</td>\n",
       "      <td>Hampton</td>\n",
       "      <td>#hampton</td>\n",
       "      <td>2015-09-22</td>\n",
       "      <td>2016-02-06</td>\n",
       "      <td>2016-06-14 19:52:26</td>\n",
       "      <td>2016-06-14 19:52:26</td>\n",
       "      <td>None</td>\n",
       "      <td>1.0</td>\n",
       "      <td>2018-01-26 09:55:03</td>\n",
       "      <td>097-105-019-061.biz.spectrum.com</td>\n",
       "    </tr>\n",
       "    <tr>\n",
       "      <th>2018-01-26</th>\n",
       "      <td>09:56:02</td>\n",
       "      <td>java-ii</td>\n",
       "      <td>1</td>\n",
       "      <td>8.0</td>\n",
       "      <td>97.105.19.61</td>\n",
       "      <td>Hampton</td>\n",
       "      <td>#hampton</td>\n",
       "      <td>2015-09-22</td>\n",
       "      <td>2016-02-06</td>\n",
       "      <td>2016-06-14 19:52:26</td>\n",
       "      <td>2016-06-14 19:52:26</td>\n",
       "      <td>None</td>\n",
       "      <td>1.0</td>\n",
       "      <td>2018-01-26 09:56:02</td>\n",
       "      <td>097-105-019-061.biz.spectrum.com</td>\n",
       "    </tr>\n",
       "    <tr>\n",
       "      <th>2018-01-26</th>\n",
       "      <td>09:56:05</td>\n",
       "      <td>java-ii/object-oriented-programming</td>\n",
       "      <td>1</td>\n",
       "      <td>8.0</td>\n",
       "      <td>97.105.19.61</td>\n",
       "      <td>Hampton</td>\n",
       "      <td>#hampton</td>\n",
       "      <td>2015-09-22</td>\n",
       "      <td>2016-02-06</td>\n",
       "      <td>2016-06-14 19:52:26</td>\n",
       "      <td>2016-06-14 19:52:26</td>\n",
       "      <td>None</td>\n",
       "      <td>1.0</td>\n",
       "      <td>2018-01-26 09:56:05</td>\n",
       "      <td>097-105-019-061.biz.spectrum.com</td>\n",
       "    </tr>\n",
       "    <tr>\n",
       "      <th>2018-01-26</th>\n",
       "      <td>09:56:06</td>\n",
       "      <td>slides/object_oriented_programming</td>\n",
       "      <td>1</td>\n",
       "      <td>8.0</td>\n",
       "      <td>97.105.19.61</td>\n",
       "      <td>Hampton</td>\n",
       "      <td>#hampton</td>\n",
       "      <td>2015-09-22</td>\n",
       "      <td>2016-02-06</td>\n",
       "      <td>2016-06-14 19:52:26</td>\n",
       "      <td>2016-06-14 19:52:26</td>\n",
       "      <td>None</td>\n",
       "      <td>1.0</td>\n",
       "      <td>2018-01-26 09:56:06</td>\n",
       "      <td>097-105-019-061.biz.spectrum.com</td>\n",
       "    </tr>\n",
       "    <tr>\n",
       "      <th>2018-01-26</th>\n",
       "      <td>09:56:24</td>\n",
       "      <td>javascript-i/conditionals</td>\n",
       "      <td>2</td>\n",
       "      <td>22.0</td>\n",
       "      <td>97.105.19.61</td>\n",
       "      <td>Teddy</td>\n",
       "      <td>#teddy</td>\n",
       "      <td>2018-01-08</td>\n",
       "      <td>2018-05-17</td>\n",
       "      <td>2018-01-08 13:59:10</td>\n",
       "      <td>2018-01-08 13:59:10</td>\n",
       "      <td>None</td>\n",
       "      <td>2.0</td>\n",
       "      <td>2018-01-26 09:56:24</td>\n",
       "      <td>097-105-019-061.biz.spectrum.com</td>\n",
       "    </tr>\n",
       "  </tbody>\n",
       "</table>\n",
       "</div>"
      ],
      "text/plain": [
       "                time                                 path  user_id  cohort_id  \\\n",
       "date                                                                            \n",
       "2018-01-26  09:55:03                                    /        1        8.0   \n",
       "2018-01-26  09:56:02                              java-ii        1        8.0   \n",
       "2018-01-26  09:56:05  java-ii/object-oriented-programming        1        8.0   \n",
       "2018-01-26  09:56:06   slides/object_oriented_programming        1        8.0   \n",
       "2018-01-26  09:56:24            javascript-i/conditionals        2       22.0   \n",
       "\n",
       "                      ip     name     slack  start_date    end_date  \\\n",
       "date                                                                  \n",
       "2018-01-26  97.105.19.61  Hampton  #hampton  2015-09-22  2016-02-06   \n",
       "2018-01-26  97.105.19.61  Hampton  #hampton  2015-09-22  2016-02-06   \n",
       "2018-01-26  97.105.19.61  Hampton  #hampton  2015-09-22  2016-02-06   \n",
       "2018-01-26  97.105.19.61  Hampton  #hampton  2015-09-22  2016-02-06   \n",
       "2018-01-26  97.105.19.61    Teddy    #teddy  2018-01-08  2018-05-17   \n",
       "\n",
       "                     created_at           updated_at deleted_at  program_id  \\\n",
       "date                                                                          \n",
       "2018-01-26  2016-06-14 19:52:26  2016-06-14 19:52:26       None         1.0   \n",
       "2018-01-26  2016-06-14 19:52:26  2016-06-14 19:52:26       None         1.0   \n",
       "2018-01-26  2016-06-14 19:52:26  2016-06-14 19:52:26       None         1.0   \n",
       "2018-01-26  2016-06-14 19:52:26  2016-06-14 19:52:26       None         1.0   \n",
       "2018-01-26  2018-01-08 13:59:10  2018-01-08 13:59:10       None         2.0   \n",
       "\n",
       "                      datetime                           ip_name  \n",
       "date                                                              \n",
       "2018-01-26 2018-01-26 09:55:03  097-105-019-061.biz.spectrum.com  \n",
       "2018-01-26 2018-01-26 09:56:02  097-105-019-061.biz.spectrum.com  \n",
       "2018-01-26 2018-01-26 09:56:05  097-105-019-061.biz.spectrum.com  \n",
       "2018-01-26 2018-01-26 09:56:06  097-105-019-061.biz.spectrum.com  \n",
       "2018-01-26 2018-01-26 09:56:24  097-105-019-061.biz.spectrum.com  "
      ]
     },
     "execution_count": 7,
     "metadata": {},
     "output_type": "execute_result"
    }
   ],
   "source": [
    "df.head()"
   ]
  },
  {
   "cell_type": "code",
   "execution_count": 9,
   "id": "134b7b77",
   "metadata": {
    "scrolled": true
   },
   "outputs": [
    {
     "name": "stdout",
     "output_type": "stream",
     "text": [
      "<class 'pandas.core.frame.DataFrame'>\n",
      "DatetimeIndex: 900223 entries, 2018-01-26 to 2021-04-21\n",
      "Data columns (total 15 columns):\n",
      " #   Column      Non-Null Count   Dtype         \n",
      "---  ------      --------------   -----         \n",
      " 0   time        900223 non-null  object        \n",
      " 1   path        900222 non-null  object        \n",
      " 2   user_id     900223 non-null  int64         \n",
      " 3   cohort_id   847330 non-null  float64       \n",
      " 4   ip          900223 non-null  object        \n",
      " 5   name        847330 non-null  object        \n",
      " 6   slack       847330 non-null  object        \n",
      " 7   start_date  847330 non-null  object        \n",
      " 8   end_date    847330 non-null  object        \n",
      " 9   created_at  847330 non-null  object        \n",
      " 10  updated_at  847330 non-null  object        \n",
      " 11  deleted_at  0 non-null       object        \n",
      " 12  program_id  847330 non-null  float64       \n",
      " 13  datetime    900223 non-null  datetime64[ns]\n",
      " 14  ip_name     836679 non-null  object        \n",
      "dtypes: datetime64[ns](1), float64(2), int64(1), object(11)\n",
      "memory usage: 109.9+ MB\n"
     ]
    }
   ],
   "source": [
    "df.info()"
   ]
  },
  {
   "cell_type": "code",
   "execution_count": 29,
   "id": "81a94397",
   "metadata": {
    "scrolled": true
   },
   "outputs": [
    {
     "data": {
      "text/plain": [
       "name       path                     \n",
       "Andromeda  /                            1174\n",
       "           toc                           638\n",
       "           javascript-i                  516\n",
       "           spring                        487\n",
       "           java-iii                      433\n",
       "                                        ... \n",
       "Zion       uploads/598dc43df39e2.jpg       1\n",
       "           web-design/intro                1\n",
       "           web-design/ui/visuals           1\n",
       "           web-design/ux/layout            1\n",
       "           web-design/ux/purpose           1\n",
       "Name: path, Length: 13565, dtype: int64"
      ]
     },
     "execution_count": 29,
     "metadata": {},
     "output_type": "execute_result"
    }
   ],
   "source": [
    "df.groupby('name')['path'].value_counts()"
   ]
  },
  {
   "cell_type": "code",
   "execution_count": 102,
   "id": "9902afd0",
   "metadata": {},
   "outputs": [
    {
     "data": {
      "text/plain": [
       "program_id  path                                       \n",
       "1.0         /                                              1681\n",
       "            index.html                                     1011\n",
       "            javascript-i                                    736\n",
       "            html-css                                        542\n",
       "            spring                                          501\n",
       "                                                           ... \n",
       "3.0         where                                             1\n",
       "4.0         content/html-css                                  2\n",
       "            /                                                 1\n",
       "            content/html-css/gitbook/images/favicon.ico       1\n",
       "            content/html-css/introduction.html                1\n",
       "Name: path, Length: 3309, dtype: int64"
      ]
     },
     "execution_count": 102,
     "metadata": {},
     "output_type": "execute_result"
    }
   ],
   "source": [
    "df.groupby('program_id')['path'].value_counts()\n"
   ]
  },
  {
   "cell_type": "code",
   "execution_count": 41,
   "id": "4314ade6",
   "metadata": {},
   "outputs": [],
   "source": [
    "df_p01 = df[df['program_id'] == 1]\n",
    "df_p02 = df[df['program_id'] == 2]\n",
    "df_p03 = df[df['program_id'] == 3]"
   ]
  },
  {
   "cell_type": "code",
   "execution_count": 117,
   "id": "bb1cc98c",
   "metadata": {
    "scrolled": true
   },
   "outputs": [
    {
     "data": {
      "text/plain": [
       "/                                           8358\n",
       "search/search_index.json                    2203\n",
       "classification/overview                     1785\n",
       "1-fundamentals/modern-data-scientist.jpg    1655\n",
       "1-fundamentals/AI-ML-DL-timeline.jpg        1651\n",
       "                                            ... \n",
       "12-distributed-ml/4-acquire                    1\n",
       "12-distributed-ml/5-inspect                    1\n",
       "12-distributed-ml/6.1-prepare-part-1           1\n",
       "imports                                        1\n",
       "joins                                          1\n",
       "Name: path, Length: 682, dtype: int64"
      ]
     },
     "execution_count": 117,
     "metadata": {},
     "output_type": "execute_result"
    }
   ],
   "source": [
    "df_p03['path'].value_counts()"
   ]
  },
  {
   "cell_type": "code",
   "execution_count": 67,
   "id": "536309a3",
   "metadata": {
    "scrolled": true
   },
   "outputs": [],
   "source": [
    "counts_df = pd.DataFrame(df['path'].value_counts())\n",
    "counts_df.reset_index(inplace = True)\n",
    "counts_df.rename(columns = {'index':'lesson'}, inplace = True)"
   ]
  },
  {
   "cell_type": "code",
   "execution_count": 135,
   "id": "c72e6559",
   "metadata": {},
   "outputs": [],
   "source": [
    "def top_lesson(dfa):\n",
    "    '''\n",
    "    This function generates top-accessed lesson from inputed dataframe\n",
    "    and outputs name\n",
    "    '''\n",
    "    lessons = []\n",
    "    dfa = pd.DataFrame(dfa['path'].value_counts())\n",
    "    dfa.reset_index(inplace = True)\n",
    "    dfa.rename(columns = {'index':'top_lesson'}, inplace = True)\n",
    "    for x in dfa['top_lesson']:\n",
    "            if x == '/':\n",
    "                continue\n",
    "            elif 'search' in x:\n",
    "                continue\n",
    "            elif 'index'  in x:\n",
    "                continue\n",
    "            else:\n",
    "                lessons.append(x)\n",
    "    lessons = pd.DataFrame(lessons)\n",
    "    lessons.rename(columns = {0:'top lesson'}, inplace = True)\n",
    "    return lessons.head(1)"
   ]
  },
  {
   "cell_type": "code",
   "execution_count": 136,
   "id": "9e487fa6",
   "metadata": {},
   "outputs": [],
   "source": [
    "def prog_split(dfa):\n",
    "    '''\n",
    "    This function splits the DataFrame up by program and outputs\n",
    "    them as separate DataFrames\n",
    "    '''\n",
    "    df_p01 = df[df['program_id'] == 1]\n",
    "    df_p02 = df[df['program_id'] == 2]\n",
    "    df_p03 = df[df['program_id'] == 3]\n",
    "    return df_p01, df_p02, df_p03"
   ]
  },
  {
   "cell_type": "code",
   "execution_count": 137,
   "id": "47452420",
   "metadata": {},
   "outputs": [
    {
     "data": {
      "text/html": [
       "<div>\n",
       "<style scoped>\n",
       "    .dataframe tbody tr th:only-of-type {\n",
       "        vertical-align: middle;\n",
       "    }\n",
       "\n",
       "    .dataframe tbody tr th {\n",
       "        vertical-align: top;\n",
       "    }\n",
       "\n",
       "    .dataframe thead th {\n",
       "        text-align: right;\n",
       "    }\n",
       "</style>\n",
       "<table border=\"1\" class=\"dataframe\">\n",
       "  <thead>\n",
       "    <tr style=\"text-align: right;\">\n",
       "      <th></th>\n",
       "      <th>top lesson</th>\n",
       "    </tr>\n",
       "  </thead>\n",
       "  <tbody>\n",
       "    <tr>\n",
       "      <th>0</th>\n",
       "      <td>javascript-i</td>\n",
       "    </tr>\n",
       "  </tbody>\n",
       "</table>\n",
       "</div>"
      ],
      "text/plain": [
       "     top lesson\n",
       "0  javascript-i"
      ]
     },
     "execution_count": 137,
     "metadata": {},
     "output_type": "execute_result"
    }
   ],
   "source": [
    "top_lesson(df) #calls top lesson function on overall DataFrame"
   ]
  },
  {
   "cell_type": "code",
   "execution_count": 138,
   "id": "49988088",
   "metadata": {
    "scrolled": true
   },
   "outputs": [
    {
     "data": {
      "text/html": [
       "<div>\n",
       "<style scoped>\n",
       "    .dataframe tbody tr th:only-of-type {\n",
       "        vertical-align: middle;\n",
       "    }\n",
       "\n",
       "    .dataframe tbody tr th {\n",
       "        vertical-align: top;\n",
       "    }\n",
       "\n",
       "    .dataframe thead th {\n",
       "        text-align: right;\n",
       "    }\n",
       "</style>\n",
       "<table border=\"1\" class=\"dataframe\">\n",
       "  <thead>\n",
       "    <tr style=\"text-align: right;\">\n",
       "      <th></th>\n",
       "      <th>top lesson</th>\n",
       "    </tr>\n",
       "  </thead>\n",
       "  <tbody>\n",
       "    <tr>\n",
       "      <th>0</th>\n",
       "      <td>javascript-i</td>\n",
       "    </tr>\n",
       "  </tbody>\n",
       "</table>\n",
       "</div>"
      ],
      "text/plain": [
       "     top lesson\n",
       "0  javascript-i"
      ]
     },
     "execution_count": 138,
     "metadata": {},
     "output_type": "execute_result"
    }
   ],
   "source": [
    "#calls function on overall DataFrame to split into programs\n",
    "df_p01, df_p02, df_p03 = prog_split(df) \n",
    "#call top lesson function on program 1\n",
    "top_lesson(df_p01)"
   ]
  },
  {
   "cell_type": "code",
   "execution_count": 139,
   "id": "88363079",
   "metadata": {
    "scrolled": true
   },
   "outputs": [
    {
     "data": {
      "text/html": [
       "<div>\n",
       "<style scoped>\n",
       "    .dataframe tbody tr th:only-of-type {\n",
       "        vertical-align: middle;\n",
       "    }\n",
       "\n",
       "    .dataframe tbody tr th {\n",
       "        vertical-align: top;\n",
       "    }\n",
       "\n",
       "    .dataframe thead th {\n",
       "        text-align: right;\n",
       "    }\n",
       "</style>\n",
       "<table border=\"1\" class=\"dataframe\">\n",
       "  <thead>\n",
       "    <tr style=\"text-align: right;\">\n",
       "      <th></th>\n",
       "      <th>top lesson</th>\n",
       "    </tr>\n",
       "  </thead>\n",
       "  <tbody>\n",
       "    <tr>\n",
       "      <th>0</th>\n",
       "      <td>javascript-i</td>\n",
       "    </tr>\n",
       "  </tbody>\n",
       "</table>\n",
       "</div>"
      ],
      "text/plain": [
       "     top lesson\n",
       "0  javascript-i"
      ]
     },
     "execution_count": 139,
     "metadata": {},
     "output_type": "execute_result"
    }
   ],
   "source": [
    "#call top lesson function on program 1\n",
    "top_lesson(df_p02)"
   ]
  },
  {
   "cell_type": "code",
   "execution_count": 140,
   "id": "fcbc3f63",
   "metadata": {},
   "outputs": [
    {
     "data": {
      "text/html": [
       "<div>\n",
       "<style scoped>\n",
       "    .dataframe tbody tr th:only-of-type {\n",
       "        vertical-align: middle;\n",
       "    }\n",
       "\n",
       "    .dataframe tbody tr th {\n",
       "        vertical-align: top;\n",
       "    }\n",
       "\n",
       "    .dataframe thead th {\n",
       "        text-align: right;\n",
       "    }\n",
       "</style>\n",
       "<table border=\"1\" class=\"dataframe\">\n",
       "  <thead>\n",
       "    <tr style=\"text-align: right;\">\n",
       "      <th></th>\n",
       "      <th>top lesson</th>\n",
       "    </tr>\n",
       "  </thead>\n",
       "  <tbody>\n",
       "    <tr>\n",
       "      <th>0</th>\n",
       "      <td>classification/overview</td>\n",
       "    </tr>\n",
       "  </tbody>\n",
       "</table>\n",
       "</div>"
      ],
      "text/plain": [
       "                top lesson\n",
       "0  classification/overview"
      ]
     },
     "execution_count": 140,
     "metadata": {},
     "output_type": "execute_result"
    }
   ],
   "source": [
    "#call top lesson function on program 1\n",
    "top_lesson(df_p03)"
   ]
  },
  {
   "cell_type": "code",
   "execution_count": null,
   "id": "b5791628",
   "metadata": {},
   "outputs": [],
   "source": []
  }
 ],
 "metadata": {
  "kernelspec": {
   "display_name": "Python 3 (ipykernel)",
   "language": "python",
   "name": "python3"
  },
  "language_info": {
   "codemirror_mode": {
    "name": "ipython",
    "version": 3
   },
   "file_extension": ".py",
   "mimetype": "text/x-python",
   "name": "python",
   "nbconvert_exporter": "python",
   "pygments_lexer": "ipython3",
   "version": "3.9.13"
  }
 },
 "nbformat": 4,
 "nbformat_minor": 5
}
